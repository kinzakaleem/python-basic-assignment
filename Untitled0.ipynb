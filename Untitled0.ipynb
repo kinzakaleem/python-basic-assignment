{
  "nbformat": 4,
  "nbformat_minor": 0,
  "metadata": {
    "colab": {
      "provenance": []
    },
    "kernelspec": {
      "name": "python3",
      "display_name": "Python 3"
    },
    "language_info": {
      "name": "python"
    }
  },
  "cells": [
    {
      "cell_type": "markdown",
      "source": [
        "# Python Basics\n",
        "\n"
      ],
      "metadata": {
        "id": "ivpL9Kp67RDT"
      }
    },
    {
      "cell_type": "markdown",
      "source": [
        "1. What is python and why is it popular\n",
        "- Python is a high level interpreted programming language known for its simplicity, readability, and versatality. Python gives clear and concise cod, making it accessible to beginners while remaining powerful enough for advance task.\n",
        "\n",
        "\n",
        "\n",
        "2. What is an interpreter in python\n",
        "- An interpreter in  python is a software programme that directly executes python code line by line, converting high level python code into machine readable.\n",
        "\n",
        "\n",
        "3. What are predefined keywords in  python\n",
        "- They are reserved words that have specific meaning and purposes. These keywords are part of the python syntax and cannot be used as identifiers.\n",
        "\n",
        "\n",
        "4. What is mutability in python\n",
        "- Mutibility in python refers to an objects ability to change its state or contents after its has been created.\n",
        "\n",
        "\n",
        "5. Why are lists mutable and tuples are immutable\n",
        "-  The mutability of lists and the immutability of tuples in python stem form their design and intended use cases\n",
        "\n",
        "\n",
        "6. Can keywords be used as variable names\n",
        "- No, keywords cannot be used as variable names in python.\n",
        "keywords are reserved words with special meaning in python.\n",
        "\n",
        "\n",
        "8. What are logical operators in python\n",
        "- They are used to combine conditional statements and perfrom logical operation on boolean values.\n",
        "\n",
        "\n",
        "9. What is typecasting in python\n",
        "- Typecasting in python is the process of converting one data type to another\n",
        "\n",
        "\n",
        "10. What is the difference between implict and explict typecasting\n",
        "- Implict typecasting happens automatically and is typically safe, but it occurs only for compatible types.\n",
        "- Explict typecasting is required when data types are incompatible or the programmer wants full control.\n",
        "\n",
        "\n",
        "11. What is the purpose of conditional statements in python\n",
        "- The purpose of conditional statements in python is to control the flow of a program by executing certain blocks of code only if specified conditions are met.\n",
        "\n",
        "\n",
        "12. How does the elif statement work\n",
        "- In python, elif is short for \"else if\" and is used when the first if statement isn't true, but you want to check for another condition.\n",
        "\n",
        "\n",
        "13. What is difference between for and while loop\n",
        "- For loop is used when the number for iterations is known before the loop starts.\n",
        "- While loop is used when the number iteration is unknown before the loop starts.\n",
        "\n",
        "\n",
        "14. Describe a scenario where a while loop is more suitable then for loop\n",
        "-  When you need to continue looping until a specific condition is met, rather than a set number of times.\n",
        "\n",
        "\n",
        "\n"
      ],
      "metadata": {
        "id": "8XTFhL4e7lRR"
      }
    },
    {
      "cell_type": "code",
      "execution_count": 1,
      "metadata": {
        "colab": {
          "base_uri": "https://localhost:8080/"
        },
        "id": "CbQHUGno7Naw",
        "outputId": "6d88b97f-2533-4dd9-f627-c92205c8879e"
      },
      "outputs": [
        {
          "output_type": "stream",
          "name": "stdout",
          "text": [
            "hello world\n",
            "\n"
          ]
        }
      ],
      "source": [
        "# write a python program to print(\"hello world\")\n",
        "\n",
        "print(\"hello world\")\n",
        "print()\n"
      ]
    },
    {
      "cell_type": "code",
      "source": [
        "# write a python program that displays your name and age\n",
        "\n",
        "age = input(\"enter age\")\n",
        "name = input(\"enter name\")"
      ],
      "metadata": {
        "colab": {
          "base_uri": "https://localhost:8080/"
        },
        "id": "cRDsSgx4GSem",
        "outputId": "576c7b1a-bcdd-4abb-b9c5-25c8e39da755"
      },
      "execution_count": 2,
      "outputs": [
        {
          "name": "stdout",
          "output_type": "stream",
          "text": [
            "enter age 20\n",
            "enter name Kinza\n"
          ]
        }
      ]
    },
    {
      "cell_type": "code",
      "source": [
        "# write a program to check if a given word is a python keyword\n",
        "\n",
        "word=input(\"enter a word to check if its a python keyword:\")\n",
        "if keyword.iskeyword(word):\n",
        "  print(f\"'{word}' is a python keyword.\")\n",
        "else:\n",
        "  print(f\"'{word}' is not a python keyword.\")\n"
      ],
      "metadata": {
        "colab": {
          "base_uri": "https://localhost:8080/",
          "height": 237
        },
        "id": "fx49t-_1GSlk",
        "outputId": "ff88e634-69e7-48c6-b1fc-53ada115b608"
      },
      "execution_count": 8,
      "outputs": [
        {
          "name": "stdout",
          "output_type": "stream",
          "text": [
            "enter a word to check if its a python keyword: word\n"
          ]
        },
        {
          "output_type": "error",
          "ename": "NameError",
          "evalue": "name 'keyword' is not defined",
          "traceback": [
            "\u001b[0;31m---------------------------------------------------------------------------\u001b[0m",
            "\u001b[0;31mNameError\u001b[0m                                 Traceback (most recent call last)",
            "\u001b[0;32m<ipython-input-8-55ab00ecc19c>\u001b[0m in \u001b[0;36m<cell line: 4>\u001b[0;34m()\u001b[0m\n\u001b[1;32m      2\u001b[0m \u001b[0;34m\u001b[0m\u001b[0m\n\u001b[1;32m      3\u001b[0m \u001b[0mword\u001b[0m\u001b[0;34m=\u001b[0m\u001b[0minput\u001b[0m\u001b[0;34m(\u001b[0m\u001b[0;34m\"enter a word to check if its a python keyword:\"\u001b[0m\u001b[0;34m)\u001b[0m\u001b[0;34m\u001b[0m\u001b[0;34m\u001b[0m\u001b[0m\n\u001b[0;32m----> 4\u001b[0;31m \u001b[0;32mif\u001b[0m \u001b[0mkeyword\u001b[0m\u001b[0;34m.\u001b[0m\u001b[0miskeyword\u001b[0m\u001b[0;34m(\u001b[0m\u001b[0mword\u001b[0m\u001b[0;34m)\u001b[0m\u001b[0;34m:\u001b[0m\u001b[0;34m\u001b[0m\u001b[0;34m\u001b[0m\u001b[0m\n\u001b[0m\u001b[1;32m      5\u001b[0m   \u001b[0mprint\u001b[0m\u001b[0;34m(\u001b[0m\u001b[0;34mf\"'{word}' is a python keyword.\"\u001b[0m\u001b[0;34m)\u001b[0m\u001b[0;34m\u001b[0m\u001b[0;34m\u001b[0m\u001b[0m\n\u001b[1;32m      6\u001b[0m \u001b[0;32melse\u001b[0m\u001b[0;34m:\u001b[0m\u001b[0;34m\u001b[0m\u001b[0;34m\u001b[0m\u001b[0m\n",
            "\u001b[0;31mNameError\u001b[0m: name 'keyword' is not defined"
          ]
        }
      ]
    },
    {
      "cell_type": "code",
      "source": [
        "# a program to demonstrate the use of logical operators\n",
        "\n",
        "if a > 5 and b < 10:\n",
        "  print(\"both conditions are true\")\n",
        "elif a > 5 or b < 0:\n",
        "  print(\"at least one condition is true\")\n",
        "if not (a == b):\n",
        "  print(\"the values of a and b are not equal\")\n",
        "\n",
        "a = 6\n",
        "b = 3\n",
        "c = -2\n",
        "print(\"testing logical operators with a = 6, b = 3, c = -2:\")\n"
      ],
      "metadata": {
        "colab": {
          "base_uri": "https://localhost:8080/",
          "height": 219
        },
        "id": "MxyvmE6_GSoV",
        "outputId": "84707328-431c-4b3d-a7e3-b158b6dae14c"
      },
      "execution_count": 14,
      "outputs": [
        {
          "output_type": "error",
          "ename": "NameError",
          "evalue": "name 'a' is not defined",
          "traceback": [
            "\u001b[0;31m---------------------------------------------------------------------------\u001b[0m",
            "\u001b[0;31mNameError\u001b[0m                                 Traceback (most recent call last)",
            "\u001b[0;32m<ipython-input-14-91bcd49f133b>\u001b[0m in \u001b[0;36m<cell line: 3>\u001b[0;34m()\u001b[0m\n\u001b[1;32m      1\u001b[0m \u001b[0;31m# a program to demonstrate the use of logical operators\u001b[0m\u001b[0;34m\u001b[0m\u001b[0;34m\u001b[0m\u001b[0m\n\u001b[1;32m      2\u001b[0m \u001b[0;34m\u001b[0m\u001b[0m\n\u001b[0;32m----> 3\u001b[0;31m \u001b[0;32mif\u001b[0m \u001b[0ma\u001b[0m \u001b[0;34m>\u001b[0m \u001b[0;36m5\u001b[0m \u001b[0;32mand\u001b[0m \u001b[0mb\u001b[0m \u001b[0;34m<\u001b[0m \u001b[0;36m10\u001b[0m\u001b[0;34m:\u001b[0m\u001b[0;34m\u001b[0m\u001b[0;34m\u001b[0m\u001b[0m\n\u001b[0m\u001b[1;32m      4\u001b[0m   \u001b[0mprint\u001b[0m\u001b[0;34m(\u001b[0m\u001b[0;34m\"both conditions are true\"\u001b[0m\u001b[0;34m)\u001b[0m\u001b[0;34m\u001b[0m\u001b[0;34m\u001b[0m\u001b[0m\n\u001b[1;32m      5\u001b[0m \u001b[0;32melif\u001b[0m \u001b[0ma\u001b[0m \u001b[0;34m>\u001b[0m \u001b[0;36m5\u001b[0m \u001b[0;32mor\u001b[0m \u001b[0mb\u001b[0m \u001b[0;34m<\u001b[0m \u001b[0;36m0\u001b[0m\u001b[0;34m:\u001b[0m\u001b[0;34m\u001b[0m\u001b[0;34m\u001b[0m\u001b[0m\n",
            "\u001b[0;31mNameError\u001b[0m: name 'a' is not defined"
          ]
        }
      ]
    },
    {
      "cell_type": "code",
      "source": [
        "# convert user input from string to input, float, boolean types\n",
        "\n",
        "s =\"86\"\n",
        "num = int(s)\n",
        "print(num)\n"
      ],
      "metadata": {
        "colab": {
          "base_uri": "https://localhost:8080/"
        },
        "id": "cDo87mgxGSq9",
        "outputId": "975c9f5d-dd4e-49ab-b581-30ee6ed40496"
      },
      "execution_count": 15,
      "outputs": [
        {
          "output_type": "stream",
          "name": "stdout",
          "text": [
            "86\n"
          ]
        }
      ]
    },
    {
      "cell_type": "code",
      "source": [
        "# string to float\n",
        "s = \"2.43\"\n",
        "num = float(s)\n",
        "print(num)"
      ],
      "metadata": {
        "colab": {
          "base_uri": "https://localhost:8080/"
        },
        "id": "1vdEFOVtGStb",
        "outputId": "cc30dfbb-e5be-4b0c-d7f9-81027a4acc7a"
      },
      "execution_count": 16,
      "outputs": [
        {
          "output_type": "stream",
          "name": "stdout",
          "text": [
            "2.43\n"
          ]
        }
      ]
    },
    {
      "cell_type": "code",
      "source": [
        "string = \"true\"\n",
        "boolean = bool(string)\n",
        "print(boolean)"
      ],
      "metadata": {
        "colab": {
          "base_uri": "https://localhost:8080/"
        },
        "id": "QiA9LajJGSvw",
        "outputId": "28f009e4-377b-4a37-a573-59328b2b40f6"
      },
      "execution_count": 17,
      "outputs": [
        {
          "output_type": "stream",
          "name": "stdout",
          "text": [
            "True\n"
          ]
        }
      ]
    },
    {
      "cell_type": "code",
      "source": [
        "# a python program to check  if a number is positive, negative or 0\n",
        "\n",
        "num = float(input(\"enter a number:\"))\n",
        "if num > 0:\n",
        "  print(\"the number is positive\")\n",
        "elif num == 0:\n",
        "  print(\"the number is zero\")\n",
        "else:\n",
        "  print(\"the number is negative\")\n"
      ],
      "metadata": {
        "colab": {
          "base_uri": "https://localhost:8080/"
        },
        "id": "OtYHtlxSGSyV",
        "outputId": "adf87f19-db8c-4d5d-fd43-f3ddb03da28d"
      },
      "execution_count": 18,
      "outputs": [
        {
          "output_type": "stream",
          "name": "stdout",
          "text": [
            "enter a number:2\n",
            "the number is positive\n"
          ]
        }
      ]
    },
    {
      "cell_type": "code",
      "source": [
        "# for loop print numbers 1 to 10\n",
        "\n",
        "for i in range (1,11):\n",
        "  print(i)\n"
      ],
      "metadata": {
        "colab": {
          "base_uri": "https://localhost:8080/"
        },
        "id": "OrhO2wNQGS1J",
        "outputId": "ab535286-b931-4aec-a5c7-2afe776ce1f4"
      },
      "execution_count": 19,
      "outputs": [
        {
          "output_type": "stream",
          "name": "stdout",
          "text": [
            "1\n",
            "2\n",
            "3\n",
            "4\n",
            "5\n",
            "6\n",
            "7\n",
            "8\n",
            "9\n",
            "10\n"
          ]
        }
      ]
    },
    {
      "cell_type": "code",
      "source": [
        "# python program to find the sum of all even numbers btw 1 and 50\n",
        "for num in range (1,51):\n",
        "  if num % 2 == 0:\n",
        "    print(num)"
      ],
      "metadata": {
        "colab": {
          "base_uri": "https://localhost:8080/"
        },
        "id": "UlM6OYMBGS4W",
        "outputId": "fcf91ff9-c19f-43d1-a147-8bce9b7e2a9e"
      },
      "execution_count": 20,
      "outputs": [
        {
          "output_type": "stream",
          "name": "stdout",
          "text": [
            "2\n",
            "4\n",
            "6\n",
            "8\n",
            "10\n",
            "12\n",
            "14\n",
            "16\n",
            "18\n",
            "20\n",
            "22\n",
            "24\n",
            "26\n",
            "28\n",
            "30\n",
            "32\n",
            "34\n",
            "36\n",
            "38\n",
            "40\n",
            "42\n",
            "44\n",
            "46\n",
            "48\n",
            "50\n"
          ]
        }
      ]
    },
    {
      "cell_type": "code",
      "source": [
        "# reverse a string using a while loop\n",
        "name = str((input(\"enter a name:\")))\n",
        "i = len(name) - 1\n",
        "while i >= 0:\n",
        "  print(name[i])\n",
        "  i -= 1"
      ],
      "metadata": {
        "colab": {
          "base_uri": "https://localhost:8080/"
        },
        "id": "9oAzErmZGS7N",
        "outputId": "84c281b5-c833-443f-df44-21290b4737fd"
      },
      "execution_count": 21,
      "outputs": [
        {
          "output_type": "stream",
          "name": "stdout",
          "text": [
            "enter a name: leo\n",
            "o\n",
            "e\n",
            "l\n",
            " \n"
          ]
        }
      ]
    },
    {
      "cell_type": "code",
      "source": [
        "# factorial of a number using while loop\n",
        "n = int(input(\"enter any number:\"))\n",
        "f = 1\n",
        "while n >= 1:\n",
        "  f *= n\n",
        "  n -= 1\n",
        "  print(\"factorial is\",f)"
      ],
      "metadata": {
        "colab": {
          "base_uri": "https://localhost:8080/"
        },
        "id": "_qJKWIVLGS9b",
        "outputId": "eacdd59a-0bc7-4029-e1a3-38ffb2e0aecb"
      },
      "execution_count": 22,
      "outputs": [
        {
          "output_type": "stream",
          "name": "stdout",
          "text": [
            "enter any number: 8\n",
            "factorial is 8\n",
            "factorial is 56\n",
            "factorial is 336\n",
            "factorial is 1680\n",
            "factorial is 6720\n",
            "factorial is 20160\n",
            "factorial is 40320\n",
            "factorial is 40320\n"
          ]
        }
      ]
    },
    {
      "cell_type": "code",
      "source": [],
      "metadata": {
        "id": "05BxK_XvGTBc"
      },
      "execution_count": null,
      "outputs": []
    },
    {
      "cell_type": "code",
      "source": [],
      "metadata": {
        "id": "DGkN3Uq_GTEI"
      },
      "execution_count": null,
      "outputs": []
    },
    {
      "cell_type": "code",
      "source": [],
      "metadata": {
        "id": "bjBaRpf6GTGy"
      },
      "execution_count": null,
      "outputs": []
    },
    {
      "cell_type": "code",
      "source": [],
      "metadata": {
        "id": "CMZlFe8aGTJO"
      },
      "execution_count": null,
      "outputs": []
    },
    {
      "cell_type": "code",
      "source": [],
      "metadata": {
        "id": "vJGLe2N8GTLo"
      },
      "execution_count": null,
      "outputs": []
    },
    {
      "cell_type": "code",
      "source": [],
      "metadata": {
        "id": "g2d-t3JVGTN9"
      },
      "execution_count": null,
      "outputs": []
    },
    {
      "cell_type": "code",
      "source": [],
      "metadata": {
        "id": "ddhW-G2oGTRW"
      },
      "execution_count": null,
      "outputs": []
    }
  ]
}